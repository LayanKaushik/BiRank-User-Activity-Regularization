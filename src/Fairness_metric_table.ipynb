{
 "cells": [
  {
   "cell_type": "code",
   "execution_count": 1,
   "id": "28879480-4f27-443f-af4e-fb3f2c66cfeb",
   "metadata": {},
   "outputs": [],
   "source": [
    "import birankpy\n",
    "from birank_bias_regularization import *\n",
    "from birank_reg_utils import *\n",
    "import numpy as np\n",
    "import pandas as pd\n",
    "import matplotlib.pyplot as plt\n",
    "import networkx as nx\n",
    "import scipy.sparse as spa\n",
    "from networkx.algorithms import bipartite\n",
    "import scipy.io\n",
    "import random\n",
    "from scipy import stats\n",
    "%matplotlib inline\n",
    "\n",
    "np.random.seed(420)"
   ]
  },
  {
   "cell_type": "markdown",
   "id": "c4eaed43-9037-4315-bbd1-301db016b4c0",
   "metadata": {},
   "source": [
    "### Fairness metric"
   ]
  },
  {
   "cell_type": "code",
   "execution_count": 2,
   "id": "a46dc442-a5d9-4d72-bce5-41b03c451e0f",
   "metadata": {},
   "outputs": [
    {
     "name": "stderr",
     "output_type": "stream",
     "text": [
      "C:\\Users\\Asus\\anaconda3\\lib\\site-packages\\numpy\\core\\fromnumeric.py:3464: RuntimeWarning: Mean of empty slice.\n",
      "  return _methods._mean(a, axis=axis, dtype=dtype,\n",
      "C:\\Users\\Asus\\anaconda3\\lib\\site-packages\\numpy\\core\\_methods.py:192: RuntimeWarning: invalid value encountered in scalar divide\n",
      "  ret = ret.dtype.type(ret / rcount)\n"
     ]
    }
   ],
   "source": [
    "graph_configs = [\n",
    "    (\"Random Graph\", 100, 50),\n",
    "    (\"Random Graph\", 1000, 100),\n",
    "    (\"Random Graph\", 10000,500),\n",
    "    (\"Random Graph\", 100,500),\n",
    "    (\"Power-Law Graph\", 100,50),\n",
    "    (\"Power-Law Graph\", 1000, 100),\n",
    "    (\"Power-Law Graph\", 10000,500),\n",
    "    (\"Power-Law Graph\", 100,500),\n",
    "]\n",
    "\n",
    "results = []\n",
    "\n",
    "for graph_type, num_users, num_products in graph_configs:\n",
    "\n",
    "    if graph_type == \"Random Graph\":\n",
    "        B, users, products = generate_random_bipartite_graph(num_users, num_products, density=0.1)\n",
    "    elif graph_type == \"Power-Law Graph\":\n",
    "        B, users, products = generate_power_law_bipartite_graph(num_users, num_products, user_exponent=1.8)\n",
    "    else:\n",
    "        raise ValueError(\"Unknown graph type\")\n",
    "\n",
    "    # Create an empty adjacency matrix\n",
    "    adj_matrix = spa.dok_matrix((len(users), len(products)), dtype=np.int8)\n",
    "    \n",
    "    # Populate the adjacency matrix based on the edges in B_power_law\n",
    "    for u, p in B.edges():\n",
    "        if u in users and p in products:\n",
    "            u_idx = users.index(u)\n",
    "            p_idx = products.index(p)\n",
    "            adj_matrix[u_idx, p_idx] = 1  # Assuming all reviews are weighted equally\n",
    "    \n",
    "    # Convert to a CSR (Compressed Sparse Row) matrix\n",
    "    adj_matrix_csr = adj_matrix.tocsr()\n",
    "    \n",
    "    user_scores, product_scores = birankpy.birank(adj_matrix_csr, normalizer='BiRank',alpha=0.85, beta=0.85, max_iter=100, tol=1e-4)\n",
    "    \n",
    "    user_scores_reg, product_scores_reg = birank_with_regularization(\n",
    "        adj_matrix_csr,\n",
    "        normalizer='BiRank',\n",
    "        gamma =0.000000001,\n",
    "        alpha=0.85,\n",
    "        beta=0.85,\n",
    "        max_iter=1000,\n",
    "        tol=1e-4\n",
    "    )\n",
    "\n",
    "    total_degree = sum(B.degree(node) for node in users)\n",
    "    \n",
    "    relative_user_activity = {node: B.degree(node) / total_degree for node in users}\n",
    "    \n",
    "    relative_user_activity_array = np.array([relative_user_activity[node] for node in users])\n",
    "    \n",
    "    high_activity_avg_rank, low_activity_avg_rank = calculate_disparity(user_scores, relative_user_activity_array, 0.01)\n",
    "    gini_coefficient_birank = calculate_gini_coefficient(product_scores)\n",
    "    \n",
    "    metric_score_birank = fairness_metric(high_activity_avg_rank, low_activity_avg_rank, gini_coefficient_birank)\n",
    "    \n",
    "    high_activity_avg_rank_reg, low_activity_avg_rank_reg = calculate_disparity(user_scores_reg, relative_user_activity_array, 0.01)\n",
    "    gini_coefficient_reg = calculate_gini_coefficient(product_scores_reg)\n",
    "    \n",
    "    metric_score_reg = fairness_metric(high_activity_avg_rank_reg, low_activity_avg_rank_reg, gini_coefficient_reg)\n",
    "    \n",
    "    results.append((f\"{graph_type} ({num_users},{num_products})\", metric_score_birank, metric_score_reg))"
   ]
  },
  {
   "cell_type": "code",
   "execution_count": 4,
   "id": "d7892d8e-5593-4e98-aaf5-84415e0b518c",
   "metadata": {},
   "outputs": [
    {
     "name": "stderr",
     "output_type": "stream",
     "text": [
      "C:\\Users\\Asus\\AppData\\Local\\Temp\\ipykernel_22212\\196170834.py:3: FutureWarning: In future versions `DataFrame.to_latex` is expected to utilise the base implementation of `Styler.to_latex` for formatting and rendering. The arguments signature may therefore change. It is recommended instead to use `DataFrame.style.to_latex` which also contains additional functionality.\n",
      "  latex_table = df_results.to_latex(index=False, caption=\"Fairness Metrics for BiRank and BiRank with Regularization\", label=\"tab:fairness_metrics\")\n"
     ]
    }
   ],
   "source": [
    "df_results = pd.DataFrame(results, columns=[\"Graph Type / (#Users, #Products)\", \"BiRank\", \"BiRank with Reg\"])\n",
    "\n",
    "latex_table = df_results.to_latex(index=False, caption=\"Fairness Metrics for BiRank and BiRank with Regularization\", label=\"tab:fairness_metrics\")"
   ]
  }
 ],
 "metadata": {
  "kernelspec": {
   "display_name": "Python 3 (ipykernel)",
   "language": "python",
   "name": "python3"
  },
  "language_info": {
   "codemirror_mode": {
    "name": "ipython",
    "version": 3
   },
   "file_extension": ".py",
   "mimetype": "text/x-python",
   "name": "python",
   "nbconvert_exporter": "python",
   "pygments_lexer": "ipython3",
   "version": "3.8.17"
  }
 },
 "nbformat": 4,
 "nbformat_minor": 5
}
